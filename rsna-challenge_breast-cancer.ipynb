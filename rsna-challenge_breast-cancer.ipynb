{
 "cells": [
  {
   "cell_type": "markdown",
   "id": "77da82c2",
   "metadata": {
    "_cell_guid": "b1076dfc-b9ad-4769-8c92-a6c4dae69d19",
    "_uuid": "8f2839f25d086af736a60e9eeb907d3b93b6e0e5",
    "execution": {
     "iopub.execute_input": "2023-02-04T05:47:27.180606Z",
     "iopub.status.busy": "2023-02-04T05:47:27.179210Z",
     "iopub.status.idle": "2023-02-04T05:47:27.193613Z",
     "shell.execute_reply": "2023-02-04T05:47:27.192077Z",
     "shell.execute_reply.started": "2023-02-04T05:47:27.180545Z"
    },
    "papermill": {
     "duration": 0.00456,
     "end_time": "2023-02-05T04:59:56.171990",
     "exception": false,
     "start_time": "2023-02-05T04:59:56.167430",
     "status": "completed"
    },
    "tags": []
   },
   "source": [
    "# Importing libraries"
   ]
  },
  {
   "cell_type": "code",
   "execution_count": 1,
   "id": "5a599a17",
   "metadata": {
    "execution": {
     "iopub.execute_input": "2023-02-05T04:59:56.181389Z",
     "iopub.status.busy": "2023-02-05T04:59:56.180650Z",
     "iopub.status.idle": "2023-02-05T05:00:03.503350Z",
     "shell.execute_reply": "2023-02-05T05:00:03.502038Z"
    },
    "papermill": {
     "duration": 7.330755,
     "end_time": "2023-02-05T05:00:03.506454",
     "exception": false,
     "start_time": "2023-02-05T04:59:56.175699",
     "status": "completed"
    },
    "tags": []
   },
   "outputs": [],
   "source": [
    "\n",
    "import pandas as pd\n",
    "import numpy as np\n",
    "import os\n",
    "import tensorflow as tf\n",
    "from tensorflow import keras\n",
    "from tensorflow.keras.preprocessing.image import ImageDataGenerator\n",
    "from tensorflow.keras.mixed_precision import experimental as mixed_precision\n",
    "from sklearn.model_selection import train_test_split\n",
    "import cv2\n",
    "import matplotlib.pyplot as plt"
   ]
  },
  {
   "cell_type": "markdown",
   "id": "c04de20f",
   "metadata": {
    "papermill": {
     "duration": 0.003239,
     "end_time": "2023-02-05T05:00:03.513526",
     "exception": false,
     "start_time": "2023-02-05T05:00:03.510287",
     "status": "completed"
    },
    "tags": []
   },
   "source": [
    "# Configuring the TPU"
   ]
  },
  {
   "cell_type": "code",
   "execution_count": 2,
   "id": "83b8c244",
   "metadata": {
    "execution": {
     "iopub.execute_input": "2023-02-05T05:00:03.523342Z",
     "iopub.status.busy": "2023-02-05T05:00:03.522067Z",
     "iopub.status.idle": "2023-02-05T05:00:03.538414Z",
     "shell.execute_reply": "2023-02-05T05:00:03.537247Z"
    },
    "papermill": {
     "duration": 0.023981,
     "end_time": "2023-02-05T05:00:03.541049",
     "exception": false,
     "start_time": "2023-02-05T05:00:03.517068",
     "status": "completed"
    },
    "tags": []
   },
   "outputs": [
    {
     "name": "stdout",
     "output_type": "stream",
     "text": [
      "Running on CPU or GPU\n",
      "N_REPLICAS: 1, IS_TPU: False\n"
     ]
    }
   ],
   "source": [
    "# Detect hardware, return appropriate distribution strategy\n",
    "try:\n",
    "    TPU = tf.distribute.cluster_resolver.TPUClusterResolver()  # TPU detection. No parameters necessary if TPU_NAME environment variable is set. On Kaggle this is always the case.\n",
    "    print('Running on TPU ', TPU.master())\n",
    "except ValueError:\n",
    "    print('Running on CPU or GPU')\n",
    "    TPU = None\n",
    "\n",
    "if TPU:\n",
    "    IS_TPU = True\n",
    "    tf.config.experimental_connect_to_cluster(TPU)\n",
    "    tf.tpu.experimental.initialize_tpu_system(TPU)\n",
    "    STRATEGY = tf.distribute.experimental.TPUStrategy(TPU)\n",
    "else:\n",
    "    IS_TPU = False\n",
    "    STRATEGY = tf.distribute.get_strategy() # default distribution strategy in Tensorflow. Works on CPU and single GPU.\n",
    "\n",
    "N_REPLICAS = STRATEGY.num_replicas_in_sync\n",
    "print(f'N_REPLICAS: {N_REPLICAS}, IS_TPU: {IS_TPU}')"
   ]
  },
  {
   "cell_type": "markdown",
   "id": "c470adcb",
   "metadata": {
    "papermill": {
     "duration": 0.003385,
     "end_time": "2023-02-05T05:00:03.548265",
     "exception": false,
     "start_time": "2023-02-05T05:00:03.544880",
     "status": "completed"
    },
    "tags": []
   },
   "source": [
    " # Loading dataset"
   ]
  },
  {
   "cell_type": "code",
   "execution_count": 3,
   "id": "3dfbf692",
   "metadata": {
    "execution": {
     "iopub.execute_input": "2023-02-05T05:00:03.556902Z",
     "iopub.status.busy": "2023-02-05T05:00:03.556520Z",
     "iopub.status.idle": "2023-02-05T05:00:03.690535Z",
     "shell.execute_reply": "2023-02-05T05:00:03.689455Z"
    },
    "papermill": {
     "duration": 0.141228,
     "end_time": "2023-02-05T05:00:03.693022",
     "exception": false,
     "start_time": "2023-02-05T05:00:03.551794",
     "status": "completed"
    },
    "tags": []
   },
   "outputs": [],
   "source": [
    "path='/kaggle/input/rsna-breast-cancer-detection/'\n",
    "train_data=pd.read_csv(path+'train.csv')\n",
    "test_data=pd.read_csv(path+'test.csv')\n",
    "path_train_images = \"/kaggle/input/rsna_mammography-images-as-pngs/images_as_pngs_512/train_images_processed_512\""
   ]
  },
  {
   "cell_type": "code",
   "execution_count": 4,
   "id": "e8717d9a",
   "metadata": {
    "execution": {
     "iopub.execute_input": "2023-02-05T05:00:03.702107Z",
     "iopub.status.busy": "2023-02-05T05:00:03.701715Z",
     "iopub.status.idle": "2023-02-05T05:00:03.841285Z",
     "shell.execute_reply": "2023-02-05T05:00:03.839914Z"
    },
    "papermill": {
     "duration": 0.147758,
     "end_time": "2023-02-05T05:00:03.844641",
     "exception": false,
     "start_time": "2023-02-05T05:00:03.696883",
     "status": "completed"
    },
    "tags": []
   },
   "outputs": [
    {
     "name": "stdout",
     "output_type": "stream",
     "text": [
      "Imbalanced dataset\n",
      "Number of images without cancer:  53548\n",
      "Number of images with cancer:  1158\n",
      "Total images: 54706\n",
      "\n",
      "Balanced dataset\n",
      "Number of images without cancer:  4632\n",
      "Number of images with cancer:  1158\n",
      "Total images: 5790\n"
     ]
    }
   ],
   "source": [
    "# Load the csv file into a pandas dataframe\n",
    "df = pd.read_csv(path+'train.csv')\n",
    "print('Imbalanced dataset')\n",
    "print('Number of images without cancer: ', len(df[df['cancer'] == 0]))\n",
    "print('Number of images with cancer: ', len(df[df['cancer'] == 1]))\n",
    "print(f'Total images: {len(df)}')\n",
    "\n",
    "#reduce the number of samples with df['cancer'] == 0 from 53548 to some lesser number\n",
    "df = df[df['cancer'] == 0].sample(4632, random_state=42).append(df[df['cancer'] == 1])\n",
    "print('\\nBalanced dataset')\n",
    "print('Number of images without cancer: ', len(df[df['cancer'] == 0]))\n",
    "print('Number of images with cancer: ', len(df[df['cancer'] == 1]))\n",
    "print(f'Total images: {len(df)}')\n",
    "\n",
    "# strip all other columns that are not needed\n",
    "df = df[['patient_id', 'image_id', 'cancer']]\n",
    "\n",
    "# Convert the data type of the columns to string\n",
    "df['image_id'] = df['image_id'].astype(str)\n",
    "df['cancer'] = df['cancer'].astype(str)\n",
    "df['patient_id'] = df['patient_id'].astype(str)\n",
    "df[\"path\"] = df[\"patient_id\"].map(str) + \"/\" + df[\"image_id\"] + '.png'\n",
    "# Split the data into training and validation sets\n",
    "train_df, val_df = train_test_split(df, test_size=0.2, random_state=42)"
   ]
  },
  {
   "cell_type": "code",
   "execution_count": 5,
   "id": "648de57d",
   "metadata": {
    "execution": {
     "iopub.execute_input": "2023-02-05T05:00:03.854539Z",
     "iopub.status.busy": "2023-02-05T05:00:03.854106Z",
     "iopub.status.idle": "2023-02-05T05:00:03.876811Z",
     "shell.execute_reply": "2023-02-05T05:00:03.875780Z"
    },
    "papermill": {
     "duration": 0.030277,
     "end_time": "2023-02-05T05:00:03.879290",
     "exception": false,
     "start_time": "2023-02-05T05:00:03.849013",
     "status": "completed"
    },
    "tags": []
   },
   "outputs": [
    {
     "data": {
      "text/html": [
       "<div>\n",
       "<style scoped>\n",
       "    .dataframe tbody tr th:only-of-type {\n",
       "        vertical-align: middle;\n",
       "    }\n",
       "\n",
       "    .dataframe tbody tr th {\n",
       "        vertical-align: top;\n",
       "    }\n",
       "\n",
       "    .dataframe thead th {\n",
       "        text-align: right;\n",
       "    }\n",
       "</style>\n",
       "<table border=\"1\" class=\"dataframe\">\n",
       "  <thead>\n",
       "    <tr style=\"text-align: right;\">\n",
       "      <th></th>\n",
       "      <th>patient_id</th>\n",
       "      <th>image_id</th>\n",
       "      <th>cancer</th>\n",
       "      <th>path</th>\n",
       "    </tr>\n",
       "  </thead>\n",
       "  <tbody>\n",
       "    <tr>\n",
       "      <th>30618</th>\n",
       "      <td>42729</td>\n",
       "      <td>919945511</td>\n",
       "      <td>0</td>\n",
       "      <td>42729/919945511.png</td>\n",
       "    </tr>\n",
       "    <tr>\n",
       "      <th>45641</th>\n",
       "      <td>59121</td>\n",
       "      <td>702664455</td>\n",
       "      <td>0</td>\n",
       "      <td>59121/702664455.png</td>\n",
       "    </tr>\n",
       "    <tr>\n",
       "      <th>5172</th>\n",
       "      <td>15573</td>\n",
       "      <td>397277886</td>\n",
       "      <td>0</td>\n",
       "      <td>15573/397277886.png</td>\n",
       "    </tr>\n",
       "    <tr>\n",
       "      <th>15857</th>\n",
       "      <td>2685</td>\n",
       "      <td>866280834</td>\n",
       "      <td>0</td>\n",
       "      <td>2685/866280834.png</td>\n",
       "    </tr>\n",
       "    <tr>\n",
       "      <th>5976</th>\n",
       "      <td>16488</td>\n",
       "      <td>1920435875</td>\n",
       "      <td>0</td>\n",
       "      <td>16488/1920435875.png</td>\n",
       "    </tr>\n",
       "    <tr>\n",
       "      <th>...</th>\n",
       "      <td>...</td>\n",
       "      <td>...</td>\n",
       "      <td>...</td>\n",
       "      <td>...</td>\n",
       "    </tr>\n",
       "    <tr>\n",
       "      <th>42538</th>\n",
       "      <td>55842</td>\n",
       "      <td>115057946</td>\n",
       "      <td>1</td>\n",
       "      <td>55842/115057946.png</td>\n",
       "    </tr>\n",
       "    <tr>\n",
       "      <th>50539</th>\n",
       "      <td>64534</td>\n",
       "      <td>1551728826</td>\n",
       "      <td>1</td>\n",
       "      <td>64534/1551728826.png</td>\n",
       "    </tr>\n",
       "    <tr>\n",
       "      <th>54675</th>\n",
       "      <td>9954</td>\n",
       "      <td>403809542</td>\n",
       "      <td>0</td>\n",
       "      <td>9954/403809542.png</td>\n",
       "    </tr>\n",
       "    <tr>\n",
       "      <th>8155</th>\n",
       "      <td>18709</td>\n",
       "      <td>1843448086</td>\n",
       "      <td>0</td>\n",
       "      <td>18709/1843448086.png</td>\n",
       "    </tr>\n",
       "    <tr>\n",
       "      <th>47427</th>\n",
       "      <td>60996</td>\n",
       "      <td>294896116</td>\n",
       "      <td>0</td>\n",
       "      <td>60996/294896116.png</td>\n",
       "    </tr>\n",
       "  </tbody>\n",
       "</table>\n",
       "<p>1158 rows × 4 columns</p>\n",
       "</div>"
      ],
      "text/plain": [
       "      patient_id    image_id cancer                  path\n",
       "30618      42729   919945511      0   42729/919945511.png\n",
       "45641      59121   702664455      0   59121/702664455.png\n",
       "5172       15573   397277886      0   15573/397277886.png\n",
       "15857       2685   866280834      0    2685/866280834.png\n",
       "5976       16488  1920435875      0  16488/1920435875.png\n",
       "...          ...         ...    ...                   ...\n",
       "42538      55842   115057946      1   55842/115057946.png\n",
       "50539      64534  1551728826      1  64534/1551728826.png\n",
       "54675       9954   403809542      0    9954/403809542.png\n",
       "8155       18709  1843448086      0  18709/1843448086.png\n",
       "47427      60996   294896116      0   60996/294896116.png\n",
       "\n",
       "[1158 rows x 4 columns]"
      ]
     },
     "execution_count": 5,
     "metadata": {},
     "output_type": "execute_result"
    }
   ],
   "source": [
    "val_df"
   ]
  },
  {
   "cell_type": "code",
   "execution_count": 6,
   "id": "f69c9eb1",
   "metadata": {
    "execution": {
     "iopub.execute_input": "2023-02-05T05:00:03.889249Z",
     "iopub.status.busy": "2023-02-05T05:00:03.888836Z",
     "iopub.status.idle": "2023-02-05T05:00:03.894851Z",
     "shell.execute_reply": "2023-02-05T05:00:03.893716Z"
    },
    "papermill": {
     "duration": 0.013724,
     "end_time": "2023-02-05T05:00:03.897163",
     "exception": false,
     "start_time": "2023-02-05T05:00:03.883439",
     "status": "completed"
    },
    "tags": []
   },
   "outputs": [],
   "source": [
    "# Create ImageDataGenerators for data augmentation\n",
    "train_datagen = ImageDataGenerator(rescale=1./255,\n",
    "                                   shear_range=0.2,\n",
    "                                   zoom_range=0.2,\n",
    "                                   horizontal_flip=True)\n",
    "\n",
    "val_datagen = ImageDataGenerator(rescale=1./255)"
   ]
  },
  {
   "cell_type": "code",
   "execution_count": 7,
   "id": "7b625ce7",
   "metadata": {
    "execution": {
     "iopub.execute_input": "2023-02-05T05:00:03.907274Z",
     "iopub.status.busy": "2023-02-05T05:00:03.906492Z",
     "iopub.status.idle": "2023-02-05T05:00:03.969015Z",
     "shell.execute_reply": "2023-02-05T05:00:03.967670Z"
    },
    "papermill": {
     "duration": 0.070334,
     "end_time": "2023-02-05T05:00:03.971643",
     "exception": false,
     "start_time": "2023-02-05T05:00:03.901309",
     "status": "completed"
    },
    "tags": []
   },
   "outputs": [
    {
     "name": "stdout",
     "output_type": "stream",
     "text": [
      "Found 0 validated image filenames belonging to 0 classes.\n",
      "Found 0 validated image filenames belonging to 0 classes.\n"
     ]
    },
    {
     "name": "stderr",
     "output_type": "stream",
     "text": [
      "/opt/conda/lib/python3.7/site-packages/keras_preprocessing/image/dataframe_iterator.py:282: UserWarning: Found 4632 invalid image filename(s) in x_col=\"path\". These filename(s) will be ignored.\n",
      "  .format(n_invalid, x_col)\n",
      "/opt/conda/lib/python3.7/site-packages/keras_preprocessing/image/dataframe_iterator.py:282: UserWarning: Found 1158 invalid image filename(s) in x_col=\"path\". These filename(s) will be ignored.\n",
      "  .format(n_invalid, x_col)\n"
     ]
    }
   ],
   "source": [
    "# Generate batches of data from the dataframes\n",
    "train_generator = train_datagen.flow_from_dataframe(\n",
    "    dataframe=train_df,\n",
    "    directory=path_train_images,\n",
    "    x_col='path',\n",
    "    y_col='cancer',\n",
    "    batch_size=32,\n",
    "    seed=42,\n",
    "    shuffle=True,\n",
    "    class_mode=\"binary\",\n",
    "    target_size=(512, 512, 3))\n",
    "    \n",
    "valid_generator = val_datagen.flow_from_dataframe(\n",
    "    dataframe=val_df,\n",
    "    directory=path_train_images,\n",
    "    x_col='path',\n",
    "    y_col='cancer',\n",
    "    batch_size=32,\n",
    "    seed=42,\n",
    "    shuffle=True,\n",
    "    class_mode=\"binary\",\n",
    "    target_size=(512, 512, 3))"
   ]
  },
  {
   "cell_type": "code",
   "execution_count": 8,
   "id": "fa039818",
   "metadata": {
    "execution": {
     "iopub.execute_input": "2023-02-05T05:00:03.981852Z",
     "iopub.status.busy": "2023-02-05T05:00:03.981446Z",
     "iopub.status.idle": "2023-02-05T05:00:04.228463Z",
     "shell.execute_reply": "2023-02-05T05:00:04.227459Z"
    },
    "papermill": {
     "duration": 0.254921,
     "end_time": "2023-02-05T05:00:04.230782",
     "exception": false,
     "start_time": "2023-02-05T05:00:03.975861",
     "status": "completed"
    },
    "tags": []
   },
   "outputs": [
    {
     "name": "stdout",
     "output_type": "stream",
     "text": [
      "Unique values: 233\n",
      "Max: 235\n",
      "Min: 0\n"
     ]
    },
    {
     "data": {
      "image/png": "[encoded data removed]",
      "text/plain": [
       "<Figure size 432x288 with 1 Axes>"
      ]
     },
     "metadata": {
      "needs_background": "light"
     },
     "output_type": "display_data"
    }
   ],
   "source": [
    "sample = cv2.imread('/kaggle/input/rsna-mammography-images-as-pngs/images_as_pngs_512/train_images_processed_512/10006/1459541791.png')\n",
    "sample.shape\n",
    "plt.imshow(sample)\n",
    "print(f'Unique values: {len(np.unique(sample))}')\n",
    "print(f'Max: {sample.max()}')\n",
    "print(f'Min: {sample.min()}')"
   ]
  },
  {
   "cell_type": "code",
   "execution_count": null,
   "id": "ab1bc5dc",
   "metadata": {
    "papermill": {
     "duration": 0.004361,
     "end_time": "2023-02-05T05:00:04.239874",
     "exception": false,
     "start_time": "2023-02-05T05:00:04.235513",
     "status": "completed"
    },
    "tags": []
   },
   "outputs": [],
   "source": []
  }
 ],
 "metadata": {
  "kernelspec": {
   "display_name": "Python 3",
   "language": "python",
   "name": "python3"
  },
  "language_info": {
   "codemirror_mode": {
    "name": "ipython",
    "version": 3
   },
   "file_extension": ".py",
   "mimetype": "text/x-python",
   "name": "python",
   "nbconvert_exporter": "python",
   "pygments_lexer": "ipython3",
   "version": "3.7.12"
  },
  "papermill": {
   "default_parameters": {},
   "duration": 19.232394,
   "end_time": "2023-02-05T05:00:07.032970",
   "environment_variables": {},
   "exception": null,
   "input_path": "__notebook__.ipynb",
   "output_path": "__notebook__.ipynb",
   "parameters": {},
   "start_time": "2023-02-05T04:59:47.800576",
   "version": "2.3.4"
  }
 },
 "nbformat": 4,
 "nbformat_minor": 5
}
