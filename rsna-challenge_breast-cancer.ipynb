{
 "cells": [
  {
   "cell_type": "markdown",
   "id": "2761b576",
   "metadata": {
    "_cell_guid": "b1076dfc-b9ad-4769-8c92-a6c4dae69d19",
    "_uuid": "8f2839f25d086af736a60e9eeb907d3b93b6e0e5",
    "execution": {
     "iopub.execute_input": "2023-02-04T05:47:27.180606Z",
     "iopub.status.busy": "2023-02-04T05:47:27.179210Z",
     "iopub.status.idle": "2023-02-04T05:47:27.193613Z",
     "shell.execute_reply": "2023-02-04T05:47:27.192077Z",
     "shell.execute_reply.started": "2023-02-04T05:47:27.180545Z"
    },
    "papermill": {
     "duration": 0.004785,
     "end_time": "2023-02-08T03:38:51.352116",
     "exception": false,
     "start_time": "2023-02-08T03:38:51.347331",
     "status": "completed"
    },
    "tags": []
   },
   "source": [
    "# Importing libraries"
   ]
  },
  {
   "cell_type": "code",
   "execution_count": 1,
   "id": "25c5aed5",
   "metadata": {
    "execution": {
     "iopub.execute_input": "2023-02-08T03:38:51.361026Z",
     "iopub.status.busy": "2023-02-08T03:38:51.360665Z",
     "iopub.status.idle": "2023-02-08T03:39:19.608422Z",
     "shell.execute_reply": "2023-02-08T03:39:19.607284Z"
    },
    "papermill": {
     "duration": 28.2549,
     "end_time": "2023-02-08T03:39:19.610726",
     "exception": false,
     "start_time": "2023-02-08T03:38:51.355826",
     "status": "completed"
    },
    "tags": []
   },
   "outputs": [
    {
     "name": "stdout",
     "output_type": "stream",
     "text": [
      "Collecting scikit-learn\r\n",
      "  Downloading scikit_learn-1.2.1-cp38-cp38-manylinux_2_17_x86_64.manylinux2014_x86_64.whl (9.8 MB)\r\n",
      "\u001b[2K     \u001b[90m━━━━━━━━━━━━━━━━━━━━━━━━━━━━━━━━━━━━━━━━\u001b[0m \u001b[32m9.8/9.8 MB\u001b[0m \u001b[31m40.2 MB/s\u001b[0m eta \u001b[36m0:00:00\u001b[0m\r\n",
      "\u001b[?25hRequirement already satisfied: numpy>=1.17.3 in /usr/local/lib/python3.8/site-packages (from scikit-learn) (1.24.1)\r\n",
      "Requirement already satisfied: scipy>=1.3.2 in /usr/local/lib/python3.8/site-packages (from scikit-learn) (1.10.0)\r\n",
      "Collecting threadpoolctl>=2.0.0\r\n",
      "  Downloading threadpoolctl-3.1.0-py3-none-any.whl (14 kB)\r\n",
      "Collecting joblib>=1.1.1\r\n",
      "  Downloading joblib-1.2.0-py3-none-any.whl (297 kB)\r\n",
      "\u001b[2K     \u001b[90m━━━━━━━━━━━━━━━━━━━━━━━━━━━━━━━━━━━━━━\u001b[0m \u001b[32m298.0/298.0 KB\u001b[0m \u001b[31m24.4 MB/s\u001b[0m eta \u001b[36m0:00:00\u001b[0m\r\n",
      "\u001b[?25hInstalling collected packages: threadpoolctl, joblib, scikit-learn\r\n",
      "Successfully installed joblib-1.2.0 scikit-learn-1.2.1 threadpoolctl-3.1.0\r\n",
      "\u001b[33mWARNING: Running pip as the 'root' user can result in broken permissions and conflicting behaviour with the system package manager. It is recommended to use a virtual environment instead: https://pip.pypa.io/warnings/venv\u001b[0m\u001b[33m\r\n",
      "\u001b[0m\u001b[33mWARNING: You are using pip version 22.0.4; however, version 23.0 is available.\r\n",
      "You should consider upgrading via the '/usr/local/bin/python -m pip install --upgrade pip' command.\u001b[0m\u001b[33m\r\n",
      "\u001b[0m"
     ]
    },
    {
     "name": "stderr",
     "output_type": "stream",
     "text": [
      "2023-02-08 03:38:59.955589: I tensorflow/core/platform/cpu_feature_guard.cc:193] This TensorFlow binary is optimized with oneAPI Deep Neural Network Library (oneDNN) to use the following CPU instructions in performance-critical operations:  AVX2 AVX512F FMA\n",
      "To enable them in other operations, rebuild TensorFlow with the appropriate compiler flags.\n",
      "2023-02-08 03:39:07.878347: W tensorflow/compiler/xla/stream_executor/platform/default/dso_loader.cc:64] Could not load dynamic library 'libcudart.so.11.0'; dlerror: libcudart.so.11.0: cannot open shared object file: No such file or directory\n",
      "2023-02-08 03:39:07.878378: I tensorflow/compiler/xla/stream_executor/cuda/cudart_stub.cc:29] Ignore above cudart dlerror if you do not have a GPU set up on your machine.\n",
      "2023-02-08 03:39:09.992689: W tensorflow/compiler/xla/stream_executor/platform/default/dso_loader.cc:64] Could not load dynamic library 'libnvinfer.so.7'; dlerror: libnvinfer.so.7: cannot open shared object file: No such file or directory\n",
      "2023-02-08 03:39:09.992839: W tensorflow/compiler/xla/stream_executor/platform/default/dso_loader.cc:64] Could not load dynamic library 'libnvinfer_plugin.so.7'; dlerror: libnvinfer_plugin.so.7: cannot open shared object file: No such file or directory\n",
      "2023-02-08 03:39:09.992855: W tensorflow/compiler/tf2tensorrt/utils/py_utils.cc:38] TF-TRT Warning: Cannot dlopen some TensorRT libraries. If you would like to use Nvidia GPU with TensorRT, please make sure the missing libraries mentioned above are installed properly.\n",
      "[percpu.cc : 552] RAW: rseq syscall failed with errno 1\n"
     ]
    },
    {
     "name": "stdout",
     "output_type": "stream",
     "text": [
      "Python version: 3.8.16 (default, Jan 24 2023, 00:12:41) \n",
      "[GCC 10.2.1 20210110]\n",
      "TensorFlow version: 2.11.0\n"
     ]
    }
   ],
   "source": [
    "!pip install scikit-learn\n",
    "import sys\n",
    "import pandas as pd\n",
    "import numpy as np\n",
    "import os\n",
    "import shutil\n",
    "import tensorflow as tf\n",
    "from tensorflow import keras\n",
    "#from tensorflow.keras.preprocessing.image import ImageDataGenerator\n",
    "#from tensorflow.keras.utils import image_dataset_from_directory\n",
    "from sklearn.model_selection import train_test_split\n",
    "import matplotlib.pyplot as plt\n",
    "\n",
    "print(f'Python version: {sys.version}')\n",
    "print(f'TensorFlow version: {tf.__version__}')"
   ]
  },
  {
   "cell_type": "markdown",
   "id": "e1e2b932",
   "metadata": {
    "papermill": {
     "duration": 0.004951,
     "end_time": "2023-02-08T03:39:19.621254",
     "exception": false,
     "start_time": "2023-02-08T03:39:19.616303",
     "status": "completed"
    },
    "tags": []
   },
   "source": [
    "# Configuring the TPU"
   ]
  },
  {
   "cell_type": "code",
   "execution_count": 2,
   "id": "b60be42e",
   "metadata": {
    "execution": {
     "iopub.execute_input": "2023-02-08T03:39:19.633857Z",
     "iopub.status.busy": "2023-02-08T03:39:19.633088Z",
     "iopub.status.idle": "2023-02-08T03:39:19.642392Z",
     "shell.execute_reply": "2023-02-08T03:39:19.641550Z"
    },
    "papermill": {
     "duration": 0.017963,
     "end_time": "2023-02-08T03:39:19.644606",
     "exception": false,
     "start_time": "2023-02-08T03:39:19.626643",
     "status": "completed"
    },
    "tags": []
   },
   "outputs": [
    {
     "name": "stdout",
     "output_type": "stream",
     "text": [
      "Running on CPU or GPU\n",
      "N_REPLICAS: 1, IS_TPU: False\n"
     ]
    }
   ],
   "source": [
    "# Detect hardware, return appropriate distribution strategy\n",
    "try:\n",
    "    TPU = tf.distribute.cluster_resolver.TPUClusterResolver()  # TPU detection. No parameters necessary if TPU_NAME environment variable is set. On Kaggle this is always the case.\n",
    "    print('Running on TPU ', TPU.master())\n",
    "except ValueError:\n",
    "    print('Running on CPU or GPU')\n",
    "    TPU = None\n",
    "\n",
    "if TPU:\n",
    "    IS_TPU = True\n",
    "    tf.config.experimental_connect_to_cluster(TPU)\n",
    "    tf.tpu.experimental.initialize_tpu_system(TPU)\n",
    "    STRATEGY = tf.distribute.experimental.TPUStrategy(TPU)\n",
    "else:\n",
    "    IS_TPU = False\n",
    "    STRATEGY = tf.distribute.get_strategy() # default distribution strategy in Tensorflow. Works on CPU and single GPU.\n",
    "\n",
    "N_REPLICAS = STRATEGY.num_replicas_in_sync\n",
    "print(f'N_REPLICAS: {N_REPLICAS}, IS_TPU: {IS_TPU}')"
   ]
  },
  {
   "cell_type": "markdown",
   "id": "2368f333",
   "metadata": {
    "papermill": {
     "duration": 0.005328,
     "end_time": "2023-02-08T03:39:19.655094",
     "exception": false,
     "start_time": "2023-02-08T03:39:19.649766",
     "status": "completed"
    },
    "tags": []
   },
   "source": [
    " # Loading dataset"
   ]
  },
  {
   "cell_type": "code",
   "execution_count": 3,
   "id": "3ebdf853",
   "metadata": {
    "execution": {
     "iopub.execute_input": "2023-02-08T03:39:19.666842Z",
     "iopub.status.busy": "2023-02-08T03:39:19.666580Z",
     "iopub.status.idle": "2023-02-08T03:39:19.791699Z",
     "shell.execute_reply": "2023-02-08T03:39:19.790727Z"
    },
    "papermill": {
     "duration": 0.134299,
     "end_time": "2023-02-08T03:39:19.794375",
     "exception": false,
     "start_time": "2023-02-08T03:39:19.660076",
     "status": "completed"
    },
    "tags": []
   },
   "outputs": [],
   "source": [
    "path='/kaggle/input/rsna-breast-cancer-detection/'\n",
    "train_data=pd.read_csv(path+'train.csv')\n",
    "test_data=pd.read_csv(path+'test.csv')\n",
    "path_train_images = '/kaggle/input/rsna-mammography-images-as-pngs/images_as_pngs_512/train_images_processed_512'"
   ]
  },
  {
   "cell_type": "code",
   "execution_count": 4,
   "id": "8a300048",
   "metadata": {
    "execution": {
     "iopub.execute_input": "2023-02-08T03:39:19.808919Z",
     "iopub.status.busy": "2023-02-08T03:39:19.807924Z",
     "iopub.status.idle": "2023-02-08T03:39:19.932207Z",
     "shell.execute_reply": "2023-02-08T03:39:19.931012Z"
    },
    "papermill": {
     "duration": 0.135081,
     "end_time": "2023-02-08T03:39:19.934734",
     "exception": false,
     "start_time": "2023-02-08T03:39:19.799653",
     "status": "completed"
    },
    "tags": []
   },
   "outputs": [
    {
     "name": "stdout",
     "output_type": "stream",
     "text": [
      "Imbalanced dataset\n",
      "Number of images without cancer:  53548\n",
      "Number of images with cancer:  1158\n",
      "Total images: 54706\n",
      "\n",
      "Balanced dataset\n",
      "Number of images without cancer:  4632\n",
      "Number of images with cancer:  1158\n",
      "Total images: 5790\n"
     ]
    },
    {
     "name": "stderr",
     "output_type": "stream",
     "text": [
      "/tmp/ipykernel_13/2468070878.py:9: FutureWarning: The frame.append method is deprecated and will be removed from pandas in a future version. Use pandas.concat instead.\n",
      "  df = df[df['cancer'] == 0].sample(4632, random_state=42).append(df[df['cancer'] == 1])\n"
     ]
    }
   ],
   "source": [
    "# Load the csv file into a pandas dataframe\n",
    "df = pd.read_csv(path+'train.csv')\n",
    "print('Imbalanced dataset')\n",
    "print('Number of images without cancer: ', len(df[df['cancer'] == 0]))\n",
    "print('Number of images with cancer: ', len(df[df['cancer'] == 1]))\n",
    "print(f'Total images: {len(df)}')\n",
    "\n",
    "#reduce the number of samples with df['cancer'] == 0 from 53548 to some lesser number\n",
    "df = df[df['cancer'] == 0].sample(4632, random_state=42).append(df[df['cancer'] == 1])\n",
    "print('\\nBalanced dataset')\n",
    "print('Number of images without cancer: ', len(df[df['cancer'] == 0]))\n",
    "print('Number of images with cancer: ', len(df[df['cancer'] == 1]))\n",
    "print(f'Total images: {len(df)}')\n",
    "\n",
    "# strip all other columns that are not needed\n",
    "df = df[['patient_id', 'image_id', 'cancer']]\n",
    "\n",
    "# Convert the data type of the columns to string\n",
    "#df['image_id'] = df['image_id'].astype(str)\n",
    "#df['cancer'] = df['cancer'].astype(str)\n",
    "#df['patient_id'] = df['patient_id'].astype(str)\n",
    "df[\"path\"] = path_train_images + '/' + df[\"patient_id\"].map(str) + \"/\" + df[\"image_id\"].map(str) + '.png'\n",
    "# Split the data into training and validation sets\n",
    "train_df, val_df = train_test_split(df, test_size=0.2, random_state=42)"
   ]
  },
  {
   "cell_type": "code",
   "execution_count": 5,
   "id": "e9e4e8de",
   "metadata": {
    "execution": {
     "iopub.execute_input": "2023-02-08T03:39:19.948389Z",
     "iopub.status.busy": "2023-02-08T03:39:19.947478Z",
     "iopub.status.idle": "2023-02-08T03:39:19.994749Z",
     "shell.execute_reply": "2023-02-08T03:39:19.993696Z"
    },
    "papermill": {
     "duration": 0.056708,
     "end_time": "2023-02-08T03:39:19.996941",
     "exception": false,
     "start_time": "2023-02-08T03:39:19.940233",
     "status": "completed"
    },
    "tags": []
   },
   "outputs": [
    {
     "name": "stderr",
     "output_type": "stream",
     "text": [
      "2023-02-08 03:39:19.957337: W tensorflow/compiler/xla/stream_executor/platform/default/dso_loader.cc:64] Could not load dynamic library 'libcuda.so.1'; dlerror: libcuda.so.1: cannot open shared object file: No such file or directory\n",
      "2023-02-08 03:39:19.957380: W tensorflow/compiler/xla/stream_executor/cuda/cuda_driver.cc:265] failed call to cuInit: UNKNOWN ERROR (303)\n",
      "2023-02-08 03:39:19.957407: I tensorflow/compiler/xla/stream_executor/cuda/cuda_diagnostics.cc:156] kernel driver does not appear to be running on this host (bb98c1c99adc): /proc/driver/nvidia/version does not exist\n",
      "2023-02-08 03:39:19.957788: I tensorflow/core/platform/cpu_feature_guard.cc:193] This TensorFlow binary is optimized with oneAPI Deep Neural Network Library (oneDNN) to use the following CPU instructions in performance-critical operations:  AVX2 AVX512F FMA\n",
      "To enable them in other operations, rebuild TensorFlow with the appropriate compiler flags.\n"
     ]
    }
   ],
   "source": [
    "#create a dataset from the dataframe using tf.data.Dataset API\n",
    "train_ds = tf.data.Dataset.from_tensor_slices((train_df['path'].values, train_df['cancer'].values))\n",
    "val_ds = tf.data.Dataset.from_tensor_slices((val_df['path'].values, val_df['cancer'].values))\n",
    "\n",
    "# Define some parameters\n",
    "BATCH_SIZE = 16 * N_REPLICAS\n",
    "IMAGE_SIZE = [512, 512, 3]\n",
    "EPOCHS = 10\n",
    "AUTO = tf.data.experimental.AUTOTUNE\n",
    "\n",
    "\n",
    "# Function to read the image and resize it\n",
    "def read_image(image_path:str, label:int):\n",
    "    image = tf.io.read_file(image_path)\n",
    "    image = tf.image.decode_png(image, channels=3)\n",
    "    image = tf.image.resize(image, IMAGE_SIZE[:2])\n",
    "    return image, label\n",
    "\n",
    "# Function to augment the images\n",
    "def augment(image, label:int):\n",
    "    image = tf.image.random_flip_left_right(image)\n",
    "    image = tf.image.random_flip_up_down(image)\n",
    "    image = tf.image.random_brightness(image, 0.1)\n",
    "    image = tf.image.random_contrast(image, 0.9, 1.1)\n",
    "    image = tf.image.random_saturation(image, 0.9, 1.1)\n",
    "    image = tf.image.random_hue(image, 0.1)\n",
    "    return image, label\n",
    "\n"
   ]
  },
  {
   "cell_type": "code",
   "execution_count": 6,
   "id": "8a266788",
   "metadata": {
    "execution": {
     "iopub.execute_input": "2023-02-08T03:39:20.010414Z",
     "iopub.status.busy": "2023-02-08T03:39:20.010101Z",
     "iopub.status.idle": "2023-02-08T03:39:20.497730Z",
     "shell.execute_reply": "2023-02-08T03:39:20.496699Z"
    },
    "papermill": {
     "duration": 0.497406,
     "end_time": "2023-02-08T03:39:20.500251",
     "exception": false,
     "start_time": "2023-02-08T03:39:20.002845",
     "status": "completed"
    },
    "tags": []
   },
   "outputs": [],
   "source": [
    "# Function to prepare the dataset for training\n",
    "def prepare_for_training(ds, cache=True, shuffle_buffer_size=1000):\n",
    "    # This is a small dataset, only load it once, and keep it in memory.\n",
    "    # use `.cache(filename)` to cache preprocessing work for datasets that don't\n",
    "    # fit in memory.\n",
    "    if cache:\n",
    "        if isinstance(cache, str):\n",
    "            ds = ds.cache(cache)\n",
    "        else:\n",
    "            ds = ds.cache()\n",
    "\n",
    "    ds = ds.shuffle(buffer_size=shuffle_buffer_size)\n",
    "\n",
    "    # Repeat forever\n",
    "    ds = ds.repeat()\n",
    "\n",
    "    ds = ds.map(read_image, num_parallel_calls=AUTO)\n",
    "\n",
    "    ds = ds.map(augment, num_parallel_calls=AUTO)\n",
    "\n",
    "    # `prefetch` lets the dataset fetch batches, in the background while the model\n",
    "    # is training.\n",
    "    ds = ds.batch(BATCH_SIZE)\n",
    "    ds = ds.prefetch(buffer_size=AUTO)\n",
    "\n",
    "    return ds\n",
    "\n",
    "num_steps = len(train_ds) // BATCH_SIZE\n",
    "num_validation_steps = len(val_ds) // BATCH_SIZE\n",
    "\n",
    "# Prepare the training and validation datasets\n",
    "train_ds = prepare_for_training(train_ds)\n",
    "val_ds = prepare_for_training(val_ds)"
   ]
  },
  {
   "cell_type": "code",
   "execution_count": 7,
   "id": "05fef69e",
   "metadata": {
    "execution": {
     "iopub.execute_input": "2023-02-08T03:39:20.551708Z",
     "iopub.status.busy": "2023-02-08T03:39:20.550761Z",
     "iopub.status.idle": "2023-02-08T05:23:46.488867Z",
     "shell.execute_reply": "2023-02-08T05:23:46.487739Z"
    },
    "papermill": {
     "duration": 6265.94816,
     "end_time": "2023-02-08T05:23:46.491223",
     "exception": false,
     "start_time": "2023-02-08T03:39:20.543063",
     "status": "completed"
    },
    "tags": []
   },
   "outputs": [
    {
     "name": "stdout",
     "output_type": "stream",
     "text": [
      "Downloading data from https://storage.googleapis.com/tensorflow/keras-applications/densenet/densenet121_weights_tf_dim_ordering_tf_kernels_notop.h5\n",
      "29084464/29084464 [==============================] - 0s 0us/step\n",
      "Model: \"sequential\"\n",
      "_________________________________________________________________\n",
      " Layer (type)                Output Shape              Param #   \n",
      "=================================================================\n",
      " densenet121 (Functional)    (None, 16, 16, 1024)      7037504   \n",
      "                                                                 \n",
      " global_average_pooling2d (G  (None, 1024)             0         \n",
      " lobalAveragePooling2D)                                          \n",
      "                                                                 \n",
      " dense (Dense)               (None, 1)                 1025      \n",
      "                                                                 \n",
      "=================================================================\n",
      "Total params: 7,038,529\n",
      "Trainable params: 1,025\n",
      "Non-trainable params: 7,037,504\n",
      "_________________________________________________________________\n",
      "Epoch 1/10\n",
      "289/289 [==============================] - 633s 2s/step - loss: 0.5200 - accuracy: 0.7943 - val_loss: 0.5080 - val_accuracy: 0.7908\n",
      "Epoch 2/10\n",
      "289/289 [==============================] - 610s 2s/step - loss: 0.4940 - accuracy: 0.8004 - val_loss: 0.4999 - val_accuracy: 0.7943\n",
      "Epoch 3/10\n",
      "289/289 [==============================] - 629s 2s/step - loss: 0.4912 - accuracy: 0.8002 - val_loss: 0.5181 - val_accuracy: 0.7726\n",
      "Epoch 4/10\n",
      "289/289 [==============================] - 623s 2s/step - loss: 0.4876 - accuracy: 0.7967 - val_loss: 0.5267 - val_accuracy: 0.7734\n",
      "Epoch 5/10\n",
      "289/289 [==============================] - 626s 2s/step - loss: 0.4799 - accuracy: 0.8028 - val_loss: 0.4941 - val_accuracy: 0.7908\n",
      "Epoch 6/10\n",
      "289/289 [==============================] - 636s 2s/step - loss: 0.4824 - accuracy: 0.7987 - val_loss: 0.4898 - val_accuracy: 0.7934\n",
      "Epoch 7/10\n",
      "289/289 [==============================] - 630s 2s/step - loss: 0.4851 - accuracy: 0.7978 - val_loss: 0.4927 - val_accuracy: 0.7925\n",
      "Epoch 8/10\n",
      "289/289 [==============================] - 627s 2s/step - loss: 0.4790 - accuracy: 0.8006 - val_loss: 0.5198 - val_accuracy: 0.7934\n",
      "Epoch 9/10\n",
      "289/289 [==============================] - 625s 2s/step - loss: 0.4740 - accuracy: 0.8032 - val_loss: 0.4853 - val_accuracy: 0.7969\n",
      "Epoch 10/10\n",
      "289/289 [==============================] - 621s 2s/step - loss: 0.4749 - accuracy: 0.8019 - val_loss: 0.5542 - val_accuracy: 0.7934\n"
     ]
    },
    {
     "data": {
      "image/png": "[encoded data removed]",
      "text/plain": [
       "<Figure size 800x800 with 2 Axes>"
      ]
     },
     "metadata": {},
     "output_type": "display_data"
    }
   ],
   "source": [
    "# Build the model using a pre-trained network (e.g. DenseNet121)\n",
    "with STRATEGY.scope():\n",
    "    base_model = tf.keras.applications.DenseNet121(\n",
    "        weights='imagenet',\n",
    "        include_top=False,\n",
    "        input_shape=(512, 512, 3)\n",
    "    )\n",
    "    base_model.trainable = False\n",
    "    model = tf.keras.Sequential([\n",
    "        base_model,\n",
    "        tf.keras.layers.GlobalAveragePooling2D(),\n",
    "        tf.keras.layers.Dense(1, activation='sigmoid')\n",
    "    ])\n",
    "    model.compile(\n",
    "        optimizer='adam',\n",
    "        loss='binary_crossentropy',\n",
    "        metrics=['accuracy']\n",
    "    )\n",
    "    model.summary()\n",
    "    \n",
    "# Train the model using fit method, not fit_generator\n",
    "history = model.fit(\n",
    "    train_ds,\n",
    "    validation_data=val_ds,\n",
    "    steps_per_epoch=num_steps,\n",
    "    validation_steps=num_validation_steps,\n",
    "    epochs=EPOCHS,\n",
    "    verbose=1\n",
    ")\n",
    "\n",
    "# Plot the training and validation accuracy and loss at each epoch\n",
    "acc = history.history['accuracy']\n",
    "val_acc = history.history['val_accuracy']\n",
    "\n",
    "loss = history.history['loss']\n",
    "val_loss = history.history['val_loss']\n",
    "\n",
    "epochs_range = range(10)\n",
    "\n",
    "plt.figure(figsize=(8, 8))\n",
    "plt.subplot(1, 2, 1)\n",
    "plt.plot(epochs_range, acc, label='Training Accuracy')\n",
    "plt.plot(epochs_range, val_acc, label='Validation Accuracy')\n",
    "plt.legend(loc='lower right')\n",
    "plt.title('Training and Validation Accuracy')\n",
    "\n",
    "plt.subplot(1, 2, 2)\n",
    "plt.plot(epochs_range, loss, label='Training Loss')\n",
    "plt.plot(epochs_range, val_loss, label='Validation Loss')\n",
    "plt.legend(loc='upper right')\n",
    "plt.title('Training and Validation Loss')\n",
    "plt.show()"
   ]
  }
 ],
 "metadata": {
  "kernelspec": {
   "display_name": "Python 3",
   "language": "python",
   "name": "python3"
  },
  "language_info": {
   "codemirror_mode": {
    "name": "ipython",
    "version": 3
   },
   "file_extension": ".py",
   "mimetype": "text/x-python",
   "name": "python",
   "nbconvert_exporter": "python",
   "pygments_lexer": "ipython3",
   "version": "3.8.16"
  },
  "papermill": {
   "default_parameters": {},
   "duration": 6301.158567,
   "end_time": "2023-02-08T05:23:50.413839",
   "environment_variables": {},
   "exception": null,
   "input_path": "__notebook__.ipynb",
   "output_path": "__notebook__.ipynb",
   "parameters": {},
   "start_time": "2023-02-08T03:38:49.255272",
   "version": "2.4.0"
  }
 },
 "nbformat": 4,
 "nbformat_minor": 5
}
